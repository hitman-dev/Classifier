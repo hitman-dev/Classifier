{
  "cells": [
    {
      "cell_type": "code",
      "execution_count": null,
      "metadata": {
        "colab": {
          "base_uri": "https://localhost:8080/"
        },
        "id": "MWZQ7lQwVbUH",
        "outputId": "5b07da91-77d2-48cb-e398-e3f5db394b03"
      },
      "outputs": [
        {
          "name": "stdout",
          "output_type": "stream",
          "text": [
            "Mounted at /content/drive\n"
          ]
        }
      ],
      "source": [
        "from google.colab import drive\n",
        "drive.mount('/content/drive')"
      ]
    },
    {
      "cell_type": "code",
      "execution_count": null,
      "metadata": {
        "id": "TjdXP_S7V9mK"
      },
      "outputs": [],
      "source": [
        "!mkdir -p ~/.kaggle\n",
        "!cp kaggle.json ~/.kaggle/\n",
        "!chmod 600 /root/.kaggle/kaggle.json\n",
        "!kaggle datasets download -d slothkong/10-monkey-species\n",
        "!unzip /content/10-monkey-species.zip -d \"/content/drive/MyDrive/Kaggle Competitions/monkey\"\n"
      ]
    },
    {
      "cell_type": "code",
      "execution_count": 6,
      "metadata": {
        "id": "g-i26Vg2Wvae"
      },
      "outputs": [],
      "source": [
        "import pandas as pd\n",
        "import numpy as np\n",
        "import tensorflow as tf"
      ]
    },
    {
      "cell_type": "code",
      "execution_count": 7,
      "metadata": {},
      "outputs": [
        {
          "data": {
            "text/html": [
              "<div>\n",
              "<style scoped>\n",
              "    .dataframe tbody tr th:only-of-type {\n",
              "        vertical-align: middle;\n",
              "    }\n",
              "\n",
              "    .dataframe tbody tr th {\n",
              "        vertical-align: top;\n",
              "    }\n",
              "\n",
              "    .dataframe thead th {\n",
              "        text-align: right;\n",
              "    }\n",
              "</style>\n",
              "<table border=\"1\" class=\"dataframe\">\n",
              "  <thead>\n",
              "    <tr style=\"text-align: right;\">\n",
              "      <th></th>\n",
              "      <th>Label</th>\n",
              "      <th>Latin Name</th>\n",
              "      <th>Common Name</th>\n",
              "      <th>Train Images</th>\n",
              "      <th>Validation Images</th>\n",
              "      <th>Details</th>\n",
              "    </tr>\n",
              "  </thead>\n",
              "  <tbody>\n",
              "    <tr>\n",
              "      <th>0</th>\n",
              "      <td>n0</td>\n",
              "      <td>alouatta_palliata</td>\n",
              "      <td>Mantled Howler</td>\n",
              "      <td>131</td>\n",
              "      <td>26</td>\n",
              "      <td>\\r\\n\\r\\nThe mantled howler (Alouatta palliata)...</td>\n",
              "    </tr>\n",
              "    <tr>\n",
              "      <th>1</th>\n",
              "      <td>n1</td>\n",
              "      <td>erythrocebus_patas</td>\n",
              "      <td>Patas Monkey</td>\n",
              "      <td>139</td>\n",
              "      <td>28</td>\n",
              "      <td>Patas monkey, (Erythrocebus patas), long-limbe...</td>\n",
              "    </tr>\n",
              "    <tr>\n",
              "      <th>2</th>\n",
              "      <td>n2</td>\n",
              "      <td>cacajao_calvus</td>\n",
              "      <td>Bald Uakari</td>\n",
              "      <td>137</td>\n",
              "      <td>27</td>\n",
              "      <td>Bald uakari (Cacajao calvus) have hairless hea...</td>\n",
              "    </tr>\n",
              "    <tr>\n",
              "      <th>3</th>\n",
              "      <td>n3</td>\n",
              "      <td>macaca_fuscata</td>\n",
              "      <td>Japanese Macaque</td>\n",
              "      <td>152</td>\n",
              "      <td>30</td>\n",
              "      <td>The Japanese macaque (Macaca fuscata), also kn...</td>\n",
              "    </tr>\n",
              "    <tr>\n",
              "      <th>4</th>\n",
              "      <td>n4</td>\n",
              "      <td>cebuella_pygmea</td>\n",
              "      <td>Pygmy Marmoset</td>\n",
              "      <td>131</td>\n",
              "      <td>26</td>\n",
              "      <td>The pygmy marmoset, cebuella pygmea, is a smal...</td>\n",
              "    </tr>\n",
              "  </tbody>\n",
              "</table>\n",
              "</div>"
            ],
            "text/plain": [
              "  Label          Latin Name       Common Name  Train Images  \\\n",
              "0    n0   alouatta_palliata    Mantled Howler           131   \n",
              "1    n1  erythrocebus_patas      Patas Monkey           139   \n",
              "2    n2      cacajao_calvus       Bald Uakari           137   \n",
              "3    n3      macaca_fuscata  Japanese Macaque           152   \n",
              "4    n4     cebuella_pygmea    Pygmy Marmoset           131   \n",
              "\n",
              "   Validation Images                                            Details  \n",
              "0                 26  \\r\\n\\r\\nThe mantled howler (Alouatta palliata)...  \n",
              "1                 28  Patas monkey, (Erythrocebus patas), long-limbe...  \n",
              "2                 27  Bald uakari (Cacajao calvus) have hairless hea...  \n",
              "3                 30  The Japanese macaque (Macaca fuscata), also kn...  \n",
              "4                 26  The pygmy marmoset, cebuella pygmea, is a smal...  "
            ]
          },
          "execution_count": 7,
          "metadata": {},
          "output_type": "execute_result"
        }
      ],
      "source": [
        "df = pd.read_csv(r'C:\\Users\\Siddhant\\PycharmProjects\\Projects\\Monkey\\monkey_labels.txt')\n",
        "df.head()"
      ]
    },
    {
      "cell_type": "code",
      "execution_count": 27,
      "metadata": {},
      "outputs": [],
      "source": [
        "data = df.loc[df[\"Common Name\"] == 'Mantled Howler', \"Details\"].iloc[0].replace('\\\\r\\\\n', '\\r\\n')"
      ]
    },
    {
      "cell_type": "code",
      "execution_count": 28,
      "metadata": {},
      "outputs": [
        {
          "data": {
            "text/plain": [
              "\"\\r\\n\\r\\nThe mantled howler (Alouatta palliata) is a species of howler monkey, a type of New World monkey, from Central and South America.\\r\\n It is one of the monkey species most often seen and heard in the wild in Central America. It takes its 'mantled' name from the long guard hairs on its sides.\\r\\n\""
            ]
          },
          "execution_count": 28,
          "metadata": {},
          "output_type": "execute_result"
        }
      ],
      "source": [
        "data"
      ]
    },
    {
      "cell_type": "code",
      "execution_count": null,
      "metadata": {
        "id": "1epuA6UdXCQL"
      },
      "outputs": [],
      "source": [
        "train_dir = \"/content/drive/MyDrive/Kaggle Competitions/monkey/training/training\"\n",
        "validation_dir = \"/content/drive/MyDrive/Kaggle Competitions/monkey/validation/validation\""
      ]
    },
    {
      "cell_type": "code",
      "execution_count": null,
      "metadata": {
        "id": "4wOFVsCEXQsS"
      },
      "outputs": [],
      "source": [
        "from tensorflow.keras.preprocessing.image import ImageDataGenerator\n",
        "\n",
        "train_datagen = ImageDataGenerator(rescale=1.0/255.)\n",
        "test_datagen = ImageDataGenerator(rescale=1.0/255.)"
      ]
    },
    {
      "cell_type": "code",
      "execution_count": null,
      "metadata": {
        "colab": {
          "base_uri": "https://localhost:8080/"
        },
        "id": "Lrbb8xCZXhdO",
        "outputId": "5929680a-f4bb-471f-ad32-fc07b2bc5749"
      },
      "outputs": [
        {
          "name": "stdout",
          "output_type": "stream",
          "text": [
            "Found 1098 images belonging to 10 classes.\n",
            "Found 272 images belonging to 10 classes.\n"
          ]
        }
      ],
      "source": [
        "train_generator = train_datagen.flow_from_directory(\n",
        "    directory=train_dir,target_size=(299,299), color_mode='rgb',batch_size=64,shuffle=True,\n",
        "    seed=2022\n",
        ")\n",
        "validation_generator = test_datagen.flow_from_directory(\n",
        "    directory=validation_dir,target_size=(299,299), color_mode='rgb',batch_size=64,shuffle=True,\n",
        "    seed=2022\n",
        ")"
      ]
    },
    {
      "cell_type": "code",
      "execution_count": null,
      "metadata": {
        "colab": {
          "base_uri": "https://localhost:8080/"
        },
        "id": "o9tNQoS8Yp1z",
        "outputId": "655f45b8-030b-4206-c530-140839a1fbfb"
      },
      "outputs": [
        {
          "name": "stdout",
          "output_type": "stream",
          "text": [
            "Downloading data from https://storage.googleapis.com/tensorflow/keras-applications/xception/xception_weights_tf_dim_ordering_tf_kernels_notop.h5\n",
            "83689472/83683744 [==============================] - 1s 0us/step\n",
            "83697664/83683744 [==============================] - 1s 0us/step\n"
          ]
        }
      ],
      "source": [
        "from tensorflow.keras.applications.xception import Xception\n",
        "\n",
        "xc = Xception(input_shape = (299, 299, 3), weights = 'imagenet', include_top = False,classes=10)\n",
        "\n",
        "for layer in xc.layers:\n",
        "  layer.trainable = False"
      ]
    },
    {
      "cell_type": "code",
      "execution_count": null,
      "metadata": {
        "id": "RcLRD7Jj78BZ"
      },
      "outputs": [],
      "source": [
        "xc.summary()"
      ]
    },
    {
      "cell_type": "code",
      "execution_count": null,
      "metadata": {
        "id": "7qoBd2Qy5Qvt"
      },
      "outputs": [],
      "source": [
        "x = tf.keras.layers.Flatten()(xc.output)\n",
        "x = tf.keras.layers.Dense(10, activation = 'relu')(x)\n",
        "x = tf.keras.layers.Dense(10, activation = 'softmax')(x)\n",
        "\n",
        "model = tf.keras.models.Model(xc.input, x)\n",
        "model.compile(optimizer = 'adam', loss = 'categorical_crossentropy', metrics = 'acc')\n",
        "model.summary()"
      ]
    },
    {
      "cell_type": "code",
      "execution_count": null,
      "metadata": {
        "id": "uIruib-GY6Mv"
      },
      "outputs": [],
      "source": [
        "from tensorflow.keras.callbacks import EarlyStopping\n",
        "monitor = EarlyStopping(monitor='val_loss', min_delta=0.01, patience=10, verbose=1, mode='auto',\n",
        "        restore_best_weights=True)"
      ]
    },
    {
      "cell_type": "code",
      "execution_count": null,
      "metadata": {
        "colab": {
          "base_uri": "https://localhost:8080/"
        },
        "id": "lvr-yOFEY_M_",
        "outputId": "d1c55bbf-14b3-4815-8132-422e4d6c5a04"
      },
      "outputs": [
        {
          "name": "stdout",
          "output_type": "stream",
          "text": [
            "Epoch 1/50\n",
            "18/18 [==============================] - 58s 3s/step - loss: 5.2163 - acc: 0.8042 - val_loss: 0.5353 - val_acc: 0.9485\n",
            "Epoch 2/50\n",
            "18/18 [==============================] - 48s 3s/step - loss: 0.2616 - acc: 0.9699 - val_loss: 0.1392 - val_acc: 0.9890\n",
            "Epoch 3/50\n",
            "18/18 [==============================] - 46s 3s/step - loss: 0.1776 - acc: 0.9891 - val_loss: 0.0543 - val_acc: 0.9963\n",
            "Epoch 4/50\n",
            "18/18 [==============================] - 46s 3s/step - loss: 0.0167 - acc: 0.9945 - val_loss: 0.1247 - val_acc: 0.9890\n",
            "Epoch 5/50\n",
            "18/18 [==============================] - 46s 3s/step - loss: 0.0010 - acc: 0.9991 - val_loss: 0.2051 - val_acc: 0.9890\n",
            "Epoch 6/50\n",
            "18/18 [==============================] - 46s 3s/step - loss: 8.8367e-05 - acc: 1.0000 - val_loss: 0.1902 - val_acc: 0.9890\n",
            "Epoch 7/50\n",
            "18/18 [==============================] - 45s 2s/step - loss: 1.2123e-05 - acc: 1.0000 - val_loss: 0.1886 - val_acc: 0.9890\n",
            "Epoch 8/50\n",
            "18/18 [==============================] - 49s 3s/step - loss: 5.8861e-06 - acc: 1.0000 - val_loss: 0.1885 - val_acc: 0.9890\n",
            "Epoch 9/50\n",
            "18/18 [==============================] - 47s 3s/step - loss: 4.8157e-06 - acc: 1.0000 - val_loss: 0.1887 - val_acc: 0.9890\n",
            "Epoch 10/50\n",
            "18/18 [==============================] - 46s 3s/step - loss: 4.0410e-06 - acc: 1.0000 - val_loss: 0.1889 - val_acc: 0.9890\n",
            "Epoch 11/50\n",
            "18/18 [==============================] - 46s 3s/step - loss: 3.5430e-06 - acc: 1.0000 - val_loss: 0.1890 - val_acc: 0.9890\n",
            "Epoch 12/50\n",
            "18/18 [==============================] - 45s 2s/step - loss: 3.1045e-06 - acc: 1.0000 - val_loss: 0.1892 - val_acc: 0.9890\n",
            "Epoch 13/50\n",
            "18/18 [==============================] - ETA: 0s - loss: 2.7071e-06 - acc: 1.0000Restoring model weights from the end of the best epoch: 3.\n",
            "18/18 [==============================] - 51s 3s/step - loss: 2.7071e-06 - acc: 1.0000 - val_loss: 0.1893 - val_acc: 0.9890\n",
            "Epoch 00013: early stopping\n"
          ]
        }
      ],
      "source": [
        "history = model.fit(train_generator, validation_data = validation_generator,\n",
        "                    epochs = 50, verbose = 1, callbacks = [monitor])"
      ]
    },
    {
      "cell_type": "code",
      "execution_count": null,
      "metadata": {
        "id": "7VaBAILIxQNy"
      },
      "outputs": [],
      "source": [
        "model.save('/content/drive/MyDrive/models/monkey_model_Xception')"
      ]
    },
    {
      "cell_type": "markdown",
      "metadata": {
        "id": "-dbM5fZ3xtip"
      },
      "source": [
        "### Preds"
      ]
    },
    {
      "cell_type": "code",
      "execution_count": null,
      "metadata": {
        "colab": {
          "base_uri": "https://localhost:8080/",
          "height": 295
        },
        "id": "mlzs1LeFaE_D",
        "outputId": "17cabaaa-90e0-4069-a40e-6e2c184cec2a"
      },
      "outputs": [
        {
          "data": {
            "image/png": "[encoded data removed]",
            "text/plain": [
              "<Figure size 432x288 with 1 Axes>"
            ]
          },
          "metadata": {
            "needs_background": "light"
          },
          "output_type": "display_data"
        }
      ],
      "source": [
        "import matplotlib.pyplot as plt\n",
        "plt.plot(history.history['loss'])\n",
        "plt.plot(history.history['val_loss'])\n",
        "plt.title('model loss')\n",
        "plt.ylabel('loss')\n",
        "plt.xlabel('epoch')\n",
        "plt.legend(['train', 'test'], loc='upper right')\n",
        "plt.show()"
      ]
    },
    {
      "cell_type": "markdown",
      "metadata": {
        "id": "gOt_yf7NxwiW"
      },
      "source": [
        "### Gradio"
      ]
    },
    {
      "cell_type": "code",
      "execution_count": 2,
      "metadata": {},
      "outputs": [],
      "source": [
        "import pandas as pd\n",
        "import tensorflow as tf\n",
        "import numpy as np"
      ]
    },
    {
      "cell_type": "code",
      "execution_count": 7,
      "metadata": {
        "id": "rB-HAHzRzKvM"
      },
      "outputs": [],
      "source": [
        "df = pd.read_csv(r\"C:\\Users\\Siddhant\\PycharmProjects\\Projects\\Monkey\\monkey_labels.txt\")"
      ]
    },
    {
      "cell_type": "code",
      "execution_count": null,
      "metadata": {
        "id": "V0wTA_F9ChZf"
      },
      "outputs": [],
      "source": [
        "model = tf.keras.models.load_model(\n",
        "    \"C:/Users/Siddhant/PycharmProjects/Projects/Monkey/models\"\n",
        ")"
      ]
    },
    {
      "cell_type": "code",
      "execution_count": null,
      "metadata": {},
      "outputs": [],
      "source": [
        "def classify_image(image):\n",
        "\n",
        "    image = tf.keras.utils.img_to_array(image)\n",
        "    image = image.reshape((1, 299, 299, 3))\n",
        "    from keras.applications.xception import preprocess_input\n",
        "\n",
        "    # prepare the image for the VGG model\n",
        "    image = preprocess_input(image)\n",
        "    classes = model.predict(image)\n",
        "    max_arg = np.argmax(classes)\n",
        "    return df[\"Common Name\"].iloc[max_arg]"
      ]
    },
    {
      "cell_type": "code",
      "execution_count": null,
      "metadata": {},
      "outputs": [],
      "source": []
    }
  ],
  "metadata": {
    "accelerator": "GPU",
    "colab": {
      "collapsed_sections": [],
      "name": "monkey.ipynb",
      "provenance": []
    },
    "kernelspec": {
      "display_name": "Python 3",
      "name": "python3"
    },
    "language_info": {
      "codemirror_mode": {
        "name": "ipython",
        "version": 3
      },
      "file_extension": ".py",
      "mimetype": "text/x-python",
      "name": "python",
      "nbconvert_exporter": "python",
      "pygments_lexer": "ipython3",
      "version": "3.8.0"
    }
  },
  "nbformat": 4,
  "nbformat_minor": 0
}
