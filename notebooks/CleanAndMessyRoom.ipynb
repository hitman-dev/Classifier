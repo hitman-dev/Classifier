{
  "cells": [
    {
      "cell_type": "code",
      "execution_count": 3,
      "metadata": {
        "colab": {
          "base_uri": "https://localhost:8080/"
        },
        "id": "MWZQ7lQwVbUH",
        "outputId": "1ec4dabc-815f-4210-9a04-1f38b427a3d4"
      },
      "outputs": [
        {
          "name": "stdout",
          "output_type": "stream",
          "text": [
            "Mounted at /content/drive\n"
          ]
        }
      ],
      "source": [
        "from google.colab import drive\n",
        "drive.mount('/content/drive')"
      ]
    },
    {
      "cell_type": "code",
      "execution_count": 1,
      "metadata": {
        "id": "g-i26Vg2Wvae"
      },
      "outputs": [],
      "source": [
        "import pandas as pd\n",
        "import numpy as np\n",
        "import tensorflow as tf"
      ]
    },
    {
      "cell_type": "code",
      "execution_count": 2,
      "metadata": {
        "id": "1epuA6UdXCQL"
      },
      "outputs": [],
      "source": [
        "train_dir = \"/content/drive/MyDrive/Kaggle Competitions/messy-vs-clean-room/images/train\"\n",
        "validation_dir = \"/content/drive/MyDrive/Kaggle Competitions/messy-vs-clean-room/images/val\""
      ]
    },
    {
      "cell_type": "code",
      "execution_count": 3,
      "metadata": {
        "id": "4wOFVsCEXQsS"
      },
      "outputs": [],
      "source": [
        "from tensorflow.keras.preprocessing.image import ImageDataGenerator"
      ]
    },
    {
      "cell_type": "code",
      "execution_count": 19,
      "metadata": {
        "colab": {
          "base_uri": "https://localhost:8080/"
        },
        "id": "tCrXVh5W4x6_",
        "outputId": "ecff74c3-4a61-495c-8efd-b810e3596ac7"
      },
      "outputs": [
        {
          "name": "stdout",
          "output_type": "stream",
          "text": [
            "Found 192 images belonging to 2 classes.\n",
            "Found 20 images belonging to 2 classes.\n"
          ]
        }
      ],
      "source": [
        "train_gen = ImageDataGenerator(\n",
        "    rescale=1.0 / 255,\n",
        "    rotation_range=25,\n",
        "    zoom_range=0.2,\n",
        "    height_shift_range=0.2,\n",
        "    width_shift_range=0.2,\n",
        "    shear_range=0.2,\n",
        "    fill_mode=\"nearest\",\n",
        "    horizontal_flip=True,\n",
        ")\n",
        "valid_gen = ImageDataGenerator(\n",
        "    rescale=1.0 / 255,\n",
        "    rotation_range=25,\n",
        "    zoom_range=0.2,\n",
        "    height_shift_range=0.2,\n",
        "    width_shift_range=0.2,\n",
        "    shear_range=0.2,\n",
        "    fill_mode=\"nearest\",\n",
        "    horizontal_flip=True,\n",
        ")\n",
        "\n",
        "\n",
        "train_set = train_gen.flow_from_directory(\n",
        "    directory=train_dir,\n",
        "    batch_size=16,\n",
        "    target_size=(224, 224),\n",
        "    color_mode=\"rgb\",\n",
        "    class_mode=\"binary\",\n",
        "    subset=\"training\",\n",
        ")\n",
        "valid_set = valid_gen.flow_from_directory(\n",
        "    directory=validation_dir,\n",
        "    batch_size=2,\n",
        "    target_size=(224, 224),\n",
        "    color_mode=\"rgb\",\n",
        "    class_mode=\"binary\",\n",
        "    subset=\"validation\",\n",
        ")\n"
      ]
    },
    {
      "cell_type": "code",
      "execution_count": 20,
      "metadata": {
        "colab": {
          "base_uri": "https://localhost:8080/"
        },
        "id": "o9tNQoS8Yp1z",
        "outputId": "d30bf48e-fe47-47d9-f982-aac83ed8762e"
      },
      "outputs": [
        {
          "name": "stdout",
          "output_type": "stream",
          "text": [
            "Downloading data from https://storage.googleapis.com/tensorflow/keras-applications/vgg16/vgg16_weights_tf_dim_ordering_tf_kernels_notop.h5\n",
            "58892288/58889256 [==============================] - 1s 0us/step\n",
            "58900480/58889256 [==============================] - 1s 0us/step\n"
          ]
        }
      ],
      "source": [
        "from tensorflow.keras.applications.vgg16 import VGG16\n",
        "vgg = VGG16(input_shape = (224, 224, 3), weights = 'imagenet', include_top = False)\n",
        "for layer in vgg.layers:\n",
        "  layer.trainable = False"
      ]
    },
    {
      "cell_type": "code",
      "execution_count": 26,
      "metadata": {
        "colab": {
          "base_uri": "https://localhost:8080/"
        },
        "id": "7qoBd2Qy5Qvt",
        "outputId": "8b575bba-e85d-4415-dab3-4ab74ff34543"
      },
      "outputs": [
        {
          "name": "stdout",
          "output_type": "stream",
          "text": [
            "Model: \"model_5\"\n",
            "_________________________________________________________________\n",
            " Layer (type)                Output Shape              Param #   \n",
            "=================================================================\n",
            " input_2 (InputLayer)        [(None, 224, 224, 3)]     0         \n",
            "                                                                 \n",
            " block1_conv1 (Conv2D)       (None, 224, 224, 64)      1792      \n",
            "                                                                 \n",
            " block1_conv2 (Conv2D)       (None, 224, 224, 64)      36928     \n",
            "                                                                 \n",
            " block1_pool (MaxPooling2D)  (None, 112, 112, 64)      0         \n",
            "                                                                 \n",
            " block2_conv1 (Conv2D)       (None, 112, 112, 128)     73856     \n",
            "                                                                 \n",
            " block2_conv2 (Conv2D)       (None, 112, 112, 128)     147584    \n",
            "                                                                 \n",
            " block2_pool (MaxPooling2D)  (None, 56, 56, 128)       0         \n",
            "                                                                 \n",
            " block3_conv1 (Conv2D)       (None, 56, 56, 256)       295168    \n",
            "                                                                 \n",
            " block3_conv2 (Conv2D)       (None, 56, 56, 256)       590080    \n",
            "                                                                 \n",
            " block3_conv3 (Conv2D)       (None, 56, 56, 256)       590080    \n",
            "                                                                 \n",
            " block3_pool (MaxPooling2D)  (None, 28, 28, 256)       0         \n",
            "                                                                 \n",
            " block4_conv1 (Conv2D)       (None, 28, 28, 512)       1180160   \n",
            "                                                                 \n",
            " block4_conv2 (Conv2D)       (None, 28, 28, 512)       2359808   \n",
            "                                                                 \n",
            " block4_conv3 (Conv2D)       (None, 28, 28, 512)       2359808   \n",
            "                                                                 \n",
            " block4_pool (MaxPooling2D)  (None, 14, 14, 512)       0         \n",
            "                                                                 \n",
            " block5_conv1 (Conv2D)       (None, 14, 14, 512)       2359808   \n",
            "                                                                 \n",
            " block5_conv2 (Conv2D)       (None, 14, 14, 512)       2359808   \n",
            "                                                                 \n",
            " block5_conv3 (Conv2D)       (None, 14, 14, 512)       2359808   \n",
            "                                                                 \n",
            " block5_pool (MaxPooling2D)  (None, 7, 7, 512)         0         \n",
            "                                                                 \n",
            " flatten_5 (Flatten)         (None, 25088)             0         \n",
            "                                                                 \n",
            " dense_11 (Dense)            (None, 56)                1404984   \n",
            "                                                                 \n",
            " dense_12 (Dense)            (None, 1)                 57        \n",
            "                                                                 \n",
            "=================================================================\n",
            "Total params: 16,119,729\n",
            "Trainable params: 1,405,041\n",
            "Non-trainable params: 14,714,688\n",
            "_________________________________________________________________\n"
          ]
        }
      ],
      "source": [
        "x = tf.keras.layers.Flatten()(vgg.output)\n",
        "x = tf.keras.layers.Dense(56, activation = 'relu')(x)\n",
        "x = tf.keras.layers.Dense(1, activation = 'sigmoid')(x)\n",
        "model = tf.keras.models.Model(vgg.input, x)\n",
        "model.compile(optimizer = 'adam', loss = 'binary_crossentropy', metrics = 'acc')\n",
        "model.summary()"
      ]
    },
    {
      "cell_type": "code",
      "execution_count": 27,
      "metadata": {
        "id": "uIruib-GY6Mv"
      },
      "outputs": [],
      "source": [
        "from tensorflow.keras.callbacks import EarlyStopping\n",
        "monitor = EarlyStopping(monitor='val_loss', min_delta=0.01, patience=10, verbose=1, mode='auto',\n",
        "        restore_best_weights=True)"
      ]
    },
    {
      "cell_type": "code",
      "execution_count": null,
      "metadata": {
        "id": "lvr-yOFEY_M_"
      },
      "outputs": [],
      "source": [
        "history = model.fit(train_generator, validation_data = validation_generator,\n",
        "                    epochs = 20, verbose = 1, callbacks = [monitor])"
      ]
    },
    {
      "cell_type": "code",
      "execution_count": 28,
      "metadata": {
        "colab": {
          "base_uri": "https://localhost:8080/"
        },
        "id": "Kir6qxRy5vpu",
        "outputId": "a2be2da1-b24c-43b8-f538-ece14e127bcf"
      },
      "outputs": [
        {
          "name": "stdout",
          "output_type": "stream",
          "text": [
            "Epoch 1/50\n",
            "8/8 [==============================] - 5s 477ms/step - loss: 0.9139 - acc: 0.6484 - val_loss: 0.8163 - val_acc: 0.6250\n",
            "Epoch 2/50\n",
            "8/8 [==============================] - 3s 412ms/step - loss: 0.3742 - acc: 0.8438 - val_loss: 0.1599 - val_acc: 0.9375\n",
            "Epoch 3/50\n",
            "8/8 [==============================] - 3s 414ms/step - loss: 0.2048 - acc: 0.9062 - val_loss: 0.1564 - val_acc: 0.9375\n",
            "Epoch 4/50\n",
            "8/8 [==============================] - 3s 405ms/step - loss: 0.1948 - acc: 0.9297 - val_loss: 0.1652 - val_acc: 0.9375\n",
            "Epoch 5/50\n",
            "8/8 [==============================] - 3s 415ms/step - loss: 0.1700 - acc: 0.9297 - val_loss: 0.1890 - val_acc: 0.8750\n",
            "Epoch 6/50\n",
            "8/8 [==============================] - 3s 420ms/step - loss: 0.1402 - acc: 0.9453 - val_loss: 0.1231 - val_acc: 0.8750\n",
            "Epoch 7/50\n",
            "8/8 [==============================] - 3s 406ms/step - loss: 0.1319 - acc: 0.9609 - val_loss: 0.1711 - val_acc: 0.9375\n",
            "Epoch 8/50\n",
            "8/8 [==============================] - 3s 403ms/step - loss: 0.1943 - acc: 0.9297 - val_loss: 0.1566 - val_acc: 0.9375\n",
            "Epoch 9/50\n",
            "8/8 [==============================] - 3s 399ms/step - loss: 0.0795 - acc: 0.9844 - val_loss: 0.1369 - val_acc: 0.9375\n",
            "Epoch 10/50\n",
            "8/8 [==============================] - 3s 404ms/step - loss: 0.0683 - acc: 0.9766 - val_loss: 0.0165 - val_acc: 1.0000\n",
            "Epoch 11/50\n",
            "8/8 [==============================] - 3s 400ms/step - loss: 0.1093 - acc: 0.9531 - val_loss: 0.2988 - val_acc: 0.8750\n",
            "Epoch 12/50\n",
            "8/8 [==============================] - 3s 411ms/step - loss: 0.1347 - acc: 0.9531 - val_loss: 0.0120 - val_acc: 1.0000\n",
            "Epoch 13/50\n",
            "8/8 [==============================] - 3s 402ms/step - loss: 0.0933 - acc: 0.9609 - val_loss: 0.0375 - val_acc: 1.0000\n",
            "Epoch 14/50\n",
            "8/8 [==============================] - 3s 409ms/step - loss: 0.0486 - acc: 0.9844 - val_loss: 0.2130 - val_acc: 0.9375\n",
            "Epoch 15/50\n",
            "8/8 [==============================] - 3s 402ms/step - loss: 0.0564 - acc: 0.9688 - val_loss: 0.0202 - val_acc: 1.0000\n",
            "Epoch 16/50\n",
            "8/8 [==============================] - 3s 412ms/step - loss: 0.1008 - acc: 0.9766 - val_loss: 0.0056 - val_acc: 1.0000\n",
            "Epoch 17/50\n",
            "8/8 [==============================] - 3s 403ms/step - loss: 0.0617 - acc: 0.9844 - val_loss: 0.1155 - val_acc: 0.9375\n",
            "Epoch 18/50\n",
            "8/8 [==============================] - 3s 405ms/step - loss: 0.0637 - acc: 0.9844 - val_loss: 0.2436 - val_acc: 0.9375\n",
            "Epoch 19/50\n",
            "8/8 [==============================] - 3s 408ms/step - loss: 0.0429 - acc: 0.9844 - val_loss: 0.2152 - val_acc: 0.8750\n",
            "Epoch 20/50\n",
            "8/8 [==============================] - 3s 408ms/step - loss: 0.0547 - acc: 0.9766 - val_loss: 0.1144 - val_acc: 0.9375\n",
            "Epoch 21/50\n",
            "8/8 [==============================] - 3s 408ms/step - loss: 0.2001 - acc: 0.9453 - val_loss: 0.1124 - val_acc: 1.0000\n",
            "Epoch 22/50\n",
            "8/8 [==============================] - 3s 405ms/step - loss: 0.0627 - acc: 0.9688 - val_loss: 0.0507 - val_acc: 1.0000\n",
            "Epoch 23/50\n",
            "8/8 [==============================] - 4s 443ms/step - loss: 0.0892 - acc: 0.9609 - val_loss: 0.0173 - val_acc: 1.0000\n",
            "Epoch 24/50\n",
            "8/8 [==============================] - 3s 409ms/step - loss: 0.0900 - acc: 0.9844 - val_loss: 0.0289 - val_acc: 1.0000\n",
            "Epoch 25/50\n",
            "8/8 [==============================] - 3s 411ms/step - loss: 0.0493 - acc: 0.9766 - val_loss: 0.0532 - val_acc: 1.0000\n",
            "Epoch 26/50\n",
            "8/8 [==============================] - ETA: 0s - loss: 0.1140 - acc: 0.9453Restoring model weights from the end of the best epoch: 16.\n",
            "8/8 [==============================] - 3s 414ms/step - loss: 0.1140 - acc: 0.9453 - val_loss: 0.0850 - val_acc: 1.0000\n",
            "Epoch 26: early stopping\n"
          ]
        }
      ],
      "source": [
        "history = model.fit(train_set, steps_per_epoch = 8,validation_data = valid_set, validation_steps = 8,\n",
        "                    epochs = 50, verbose = 1, callbacks = [monitor])"
      ]
    },
    {
      "cell_type": "code",
      "execution_count": 29,
      "metadata": {
        "colab": {
          "base_uri": "https://localhost:8080/"
        },
        "id": "YXgBgw-XVCgE",
        "outputId": "3e81fa52-6e11-4ddf-d4c3-39a2bcabe9c3"
      },
      "outputs": [
        {
          "name": "stdout",
          "output_type": "stream",
          "text": [
            "INFO:tensorflow:Assets written to: /content/drive/MyDrive/clean-messy_model3/assets\n"
          ]
        }
      ],
      "source": [
        "model.save('/content/drive/MyDrive/clean-messy_model3')"
      ]
    },
    {
      "cell_type": "code",
      "execution_count": 30,
      "metadata": {
        "colab": {
          "base_uri": "https://localhost:8080/",
          "height": 295
        },
        "id": "mlzs1LeFaE_D",
        "outputId": "e0c33462-2ee1-4f55-8be7-250a31f698c8"
      },
      "outputs": [
        {
          "data": {
            "image/png": "[encoded data removed]",
            "text/plain": [
              "<Figure size 432x288 with 1 Axes>"
            ]
          },
          "metadata": {
            "needs_background": "light"
          },
          "output_type": "display_data"
        }
      ],
      "source": [
        "import matplotlib.pyplot as plt\n",
        "plt.plot(history.history['loss'])\n",
        "plt.plot(history.history['val_loss'])\n",
        "plt.title('model loss')\n",
        "plt.ylabel('loss')\n",
        "plt.xlabel('epoch')\n",
        "plt.legend(['train', 'test'], loc='upper right')\n",
        "plt.show()"
      ]
    },
    {
      "cell_type": "code",
      "execution_count": 72,
      "metadata": {
        "colab": {
          "base_uri": "https://localhost:8080/"
        },
        "id": "UL4oCu4dsa1h",
        "outputId": "6cda5423-e3fd-400e-df63-ff95cb389094"
      },
      "outputs": [
        {
          "name": "stdout",
          "output_type": "stream",
          "text": [
            "(1, 224, 224, 3)\n",
            "Messy\n"
          ]
        }
      ],
      "source": [
        "from keras.preprocessing import image\n",
        "from PIL import Image\n",
        "img = Image.open('/content/drive/MyDrive/Kaggle Competitions/messy-vs-clean-room/images/test/unclassified/0.png')\n",
        "img = tf.keras.utils.img_to_array(img)\n",
        "print(img.shape)\n",
        "from keras.preprocessing import image\n",
        "img1 = tf.image.resize(img, (224, 224), method = tf.image.ResizeMethod.BILINEAR, preserve_aspect_ratio = True)\n",
        "img1 = np.array(img1)\n",
        "img1 = img1.reshape(1, 224, 224, 3)\n",
        "prob = model.predict(img1)\n",
        "if prob[0] > 0.5:\n",
        "    print(\"Messy\")\n",
        "else:\n",
        "    print(\"Clean\")\n",
        "\n"
      ]
    }
  ],
  "metadata": {
    "accelerator": "GPU",
    "colab": {
      "collapsed_sections": [],
      "name": "CleanAndMessyRoom_Inception.ipynb",
      "provenance": []
    },
    "kernelspec": {
      "display_name": "Python 3",
      "name": "python3"
    },
    "language_info": {
      "name": "python"
    }
  },
  "nbformat": 4,
  "nbformat_minor": 0
}
